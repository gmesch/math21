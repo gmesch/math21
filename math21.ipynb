{
  "nbformat": 4,
  "nbformat_minor": 0,
  "metadata": {
    "colab": {
      "name": "math21.ipynb",
      "provenance": [],
      "collapsed_sections": []
    },
    "kernelspec": {
      "name": "python3",
      "display_name": "Python 3"
    },
    "language_info": {
      "name": "python"
    }
  },
  "cells": [
    {
      "cell_type": "markdown",
      "metadata": {
        "id": "7artxkOrNuTT"
      },
      "source": [
        "# Linear Algebra for Machine Learning - Exercises\n",
        "\n",
        "This colab supports the exercises in the [slides](https://gmesch.github.io/math21/slides.html)."
      ]
    },
    {
      "cell_type": "code",
      "metadata": {
        "id": "7nIuF9liWybP"
      },
      "source": [
        "import numpy as np\n",
        "import numpy.linalg as la"
      ],
      "execution_count": null,
      "outputs": []
    },
    {
      "cell_type": "markdown",
      "metadata": {
        "id": "bbOvmXSUHBoB"
      },
      "source": [
        "## Axioms of Vector Space\n",
        "[slide](https://gmesch.github.io/math21/slides.html#slide=exercise1)\n",
        "\n",
        "Are these two examples of vector spaces?\n",
        "   * Tuples of Rational Numbers over Real Numbers?\n",
        "   * Tuples of Real Numbers over Rational Numbers?"
      ]
    },
    {
      "cell_type": "markdown",
      "metadata": {
        "id": "xuiUv3HRIcLu"
      },
      "source": [
        "## Linear Independence\n",
        "[slide](https://gmesch.github.io/math21/slides.html#slide=exercise2)\n",
        "\n",
        "Imagine sets of arrows that are\n",
        "   * linearly independent,\n",
        "   * linearly dependent."
      ]
    },
    {
      "cell_type": "markdown",
      "metadata": {
        "id": "VZ-yOI8ENddV"
      },
      "source": [
        "## Coordinate Tuples vs F^n Vectors\n",
        "[slide](https://gmesch.github.io/math21/slides.html#slide=exercise3)\n",
        "\n",
        "Define two different bases in R^2 and compute the coordinates of one vector [1, 1] in both bases."
      ]
    },
    {
      "cell_type": "markdown",
      "metadata": {
        "id": "ZL5t4QzNKkWE"
      },
      "source": [
        "Vector"
      ]
    },
    {
      "cell_type": "code",
      "metadata": {
        "id": "EQs3i3DESyfv"
      },
      "source": [
        "v = np.array([1,1])\n"
      ],
      "execution_count": null,
      "outputs": []
    },
    {
      "cell_type": "markdown",
      "metadata": {
        "id": "fjCtBcSHK4xL"
      },
      "source": [
        "Basis"
      ]
    },
    {
      "cell_type": "code",
      "metadata": {
        "id": "VWLWg6MRK0aW"
      },
      "source": [
        "basis_1 = np.array([[1,3],[3,1]])\n",
        "basis_2 = np.array([[1,0],[0,1]])"
      ],
      "execution_count": null,
      "outputs": []
    },
    {
      "cell_type": "markdown",
      "metadata": {
        "id": "WjBrUJerLFY_"
      },
      "source": [
        "Coordinates of the Vector in either Basis"
      ]
    },
    {
      "cell_type": "code",
      "metadata": {
        "id": "VMWHMdh5LJ6i"
      },
      "source": [
        "coord_1 = np.array([1/4,1/4])\n",
        "coord_2 = np.array([1,0])"
      ],
      "execution_count": null,
      "outputs": []
    },
    {
      "cell_type": "markdown",
      "metadata": {
        "id": "BkxJFhg7L9dl"
      },
      "source": [
        "The coordinates multipled by the basis yield the vector\n",
        "in either basis."
      ]
    },
    {
      "cell_type": "code",
      "metadata": {
        "colab": {
          "base_uri": "https://localhost:8080/"
        },
        "id": "nicWz9FSVhIp",
        "outputId": "38f47e18-c017-4585-d29b-57cdf09ab1b7"
      },
      "source": [
        "coord_1 @ basis_1"
      ],
      "execution_count": null,
      "outputs": [
        {
          "output_type": "execute_result",
          "data": {
            "text/plain": [
              "array([1., 1.])"
            ]
          },
          "metadata": {
            "tags": []
          },
          "execution_count": 99
        }
      ]
    },
    {
      "cell_type": "code",
      "metadata": {
        "id": "jp6AgwgXLaO-",
        "colab": {
          "base_uri": "https://localhost:8080/"
        },
        "outputId": "917e6266-55da-4b11-f394-794ba7b8daac"
      },
      "source": [
        "coord_2 @ basis_2"
      ],
      "execution_count": null,
      "outputs": [
        {
          "output_type": "execute_result",
          "data": {
            "text/plain": [
              "array([1, 0])"
            ]
          },
          "metadata": {
            "tags": []
          },
          "execution_count": 100
        }
      ]
    },
    {
      "cell_type": "markdown",
      "metadata": {
        "id": "5k00QGZfVo8T"
      },
      "source": [
        "The same vector has *different* coordinates in *different* bases.\n",
        "\n",
        "Both vectors and their coordinates are tuples of numbers, but we must not confuse them!"
      ]
    },
    {
      "cell_type": "markdown",
      "metadata": {
        "id": "3kk30hC3Wfok"
      },
      "source": [
        "## Basis Transformation\n",
        "[slide](https://gmesch.github.io/math21/slides.html#slide=exercise4)\n",
        "\n",
        "Write down the basis transformation and the coordinate transformation for the transition between Basis 1 and Basis 2 in the previous exercise."
      ]
    },
    {
      "cell_type": "markdown",
      "metadata": {
        "id": "HLjATCR2MqMs"
      },
      "source": [
        "Write down vector as coordinates and basis in Einstein notation. Notice that there is a function in numpy, `np.einsum` that allows to express summation over indices according to the Einstein convention."
      ]
    },
    {
      "cell_type": "code",
      "metadata": {
        "colab": {
          "base_uri": "https://localhost:8080/"
        },
        "id": "AukxA7pjMWP6",
        "outputId": "79a1ff6f-75c9-4c34-f26e-e823ce5b6f5f"
      },
      "source": [
        "np.einsum('i,i...', coord_1, basis_1)"
      ],
      "execution_count": null,
      "outputs": [
        {
          "output_type": "execute_result",
          "data": {
            "text/plain": [
              "array([1., 1.])"
            ]
          },
          "metadata": {
            "tags": []
          },
          "execution_count": 103
        }
      ]
    },
    {
      "cell_type": "code",
      "metadata": {
        "colab": {
          "base_uri": "https://localhost:8080/"
        },
        "id": "lmT3FEyDNBtt",
        "outputId": "3a350f76-0b02-4c87-8d51-4b4db9761f1f"
      },
      "source": [
        "np.einsum('i,i...', coord_2, basis_2)"
      ],
      "execution_count": null,
      "outputs": [
        {
          "output_type": "execute_result",
          "data": {
            "text/plain": [
              "array([1, 0])"
            ]
          },
          "metadata": {
            "tags": []
          },
          "execution_count": 104
        }
      ]
    },
    {
      "cell_type": "markdown",
      "metadata": {
        "id": "43sIL69XNH9Q"
      },
      "source": [
        "This is the Basis Transformation from Basis 1 to Basis 2"
      ]
    },
    {
      "cell_type": "code",
      "metadata": {
        "id": "0NXYhdehNHUF"
      },
      "source": [
        "Tb = np.array([[-1/8, 3/8], [3/8, -1/8]])"
      ],
      "execution_count": null,
      "outputs": []
    },
    {
      "cell_type": "markdown",
      "metadata": {
        "id": "sgL7VA70NYTQ"
      },
      "source": [
        "Express Basis 2 from Basis 1\n",
        "This yields basis 1:"
      ]
    },
    {
      "cell_type": "code",
      "metadata": {
        "colab": {
          "base_uri": "https://localhost:8080/"
        },
        "id": "XZwDdUqeNWta",
        "outputId": "185a3e31-e6d7-415c-ede9-622a5f1af426"
      },
      "source": [
        "np.einsum('ij,j...', Tb, basis_1)"
      ],
      "execution_count": null,
      "outputs": [
        {
          "output_type": "execute_result",
          "data": {
            "text/plain": [
              "array([[1., 0.],\n",
              "       [0., 1.]])"
            ]
          },
          "metadata": {
            "tags": []
          },
          "execution_count": 109
        }
      ]
    },
    {
      "cell_type": "markdown",
      "metadata": {
        "id": "5alKVuANN-LE"
      },
      "source": [
        "The coordinates transform differently"
      ]
    },
    {
      "cell_type": "code",
      "metadata": {
        "colab": {
          "base_uri": "https://localhost:8080/"
        },
        "id": "RzHcjZrEOOza",
        "outputId": "645c9ff4-8213-45f5-b54e-e0e8ddb7b2f4"
      },
      "source": [
        "Tc = [[1,3],[3,1]]\n",
        "np.einsum('ij,j', Tc, coord_1)"
      ],
      "execution_count": null,
      "outputs": [
        {
          "output_type": "execute_result",
          "data": {
            "text/plain": [
              "array([1., 1.])"
            ]
          },
          "metadata": {
            "tags": []
          },
          "execution_count": 113
        }
      ]
    },
    {
      "cell_type": "markdown",
      "metadata": {
        "id": "Oa9c_FerOmQY"
      },
      "source": [
        "The basis and coordinate transformations are each other's inverse:"
      ]
    },
    {
      "cell_type": "code",
      "metadata": {
        "colab": {
          "base_uri": "https://localhost:8080/"
        },
        "id": "wCloTasZOqTO",
        "outputId": "1ab485f1-286e-488b-a4d2-bb0557e835d2"
      },
      "source": [
        "np.einsum('ij,jk', Tb, Tc)"
      ],
      "execution_count": null,
      "outputs": [
        {
          "output_type": "execute_result",
          "data": {
            "text/plain": [
              "array([[1., 0.],\n",
              "       [0., 1.]])"
            ]
          },
          "metadata": {
            "tags": []
          },
          "execution_count": 112
        }
      ]
    },
    {
      "cell_type": "markdown",
      "metadata": {
        "id": "JTywKOH-P6ey"
      },
      "source": [
        "## Scalar Product and Metric Tensor\n",
        "[slide](https://gmesch.github.io/math21/slides.html#slide=exercise5)\n",
        "\n",
        "Write down the coordinates of the scalar product for tuples from R^2 in the two bases from the previous exercise."
      ]
    },
    {
      "cell_type": "markdown",
      "metadata": {
        "id": "1h6CWkJ-RHKi"
      },
      "source": [
        "Vectors and Basis vectors in both bases"
      ]
    },
    {
      "cell_type": "code",
      "metadata": {
        "id": "63MFqcznQN9-"
      },
      "source": [
        "v = np.array([1,1])\n",
        "w = np.array([1,0])\n",
        "\n",
        "e1 = np.array([1,3])\n",
        "e2 = np.array([3,1])\n",
        "\n",
        "basis_1 = np.array([e1, e2])\n",
        "\n",
        "e1p = np.array([1,0])\n",
        "e2p = np.array([0,1])\n",
        "\n",
        "basis_2 = np.array([e1p, e2p])"
      ],
      "execution_count": null,
      "outputs": []
    },
    {
      "cell_type": "markdown",
      "metadata": {
        "id": "MfbBGJCeRnRP"
      },
      "source": [
        "Write down the coordinates of the scalar product in both bases"
      ]
    },
    {
      "cell_type": "code",
      "metadata": {
        "colab": {
          "base_uri": "https://localhost:8080/"
        },
        "id": "Wj8vDkxERuNr",
        "outputId": "f0ffa1f4-bd48-4918-e10c-076bcb73e8f9"
      },
      "source": [
        "g = np.array([[np.dot(e1,e1), np.dot(e1,e2)],\n",
        "              [np.dot(e2,e1), np.dot(e2,e2)]])\n",
        "g"
      ],
      "execution_count": null,
      "outputs": [
        {
          "output_type": "execute_result",
          "data": {
            "text/plain": [
              "array([[10,  6],\n",
              "       [ 6, 10]])"
            ]
          },
          "metadata": {
            "tags": []
          },
          "execution_count": 119
        }
      ]
    },
    {
      "cell_type": "code",
      "metadata": {
        "colab": {
          "base_uri": "https://localhost:8080/"
        },
        "id": "hTEJWSecSZkz",
        "outputId": "ce5c80b1-83be-467e-9ae2-04b96259fdfa"
      },
      "source": [
        "gp = np.array([[np.dot(e1p,e1p), np.dot(e1p,e2p)],\n",
        "              [np.dot(e2p,e1p), np.dot(e2p,e2p)]])\n",
        "gp"
      ],
      "execution_count": null,
      "outputs": [
        {
          "output_type": "execute_result",
          "data": {
            "text/plain": [
              "array([[1, 0],\n",
              "       [0, 1]])"
            ]
          },
          "metadata": {
            "tags": []
          },
          "execution_count": 120
        }
      ]
    },
    {
      "cell_type": "markdown",
      "metadata": {
        "id": "Qoa9Q4JdS5Ff"
      },
      "source": [
        "The scalar product of the vectors can be expressed either directly, or using the coordinates."
      ]
    },
    {
      "cell_type": "markdown",
      "metadata": {
        "id": "MitT_T8jUJBC"
      },
      "source": [
        "Here are the coordinates of both vectors in both bases:"
      ]
    },
    {
      "cell_type": "code",
      "metadata": {
        "colab": {
          "base_uri": "https://localhost:8080/"
        },
        "id": "i627YDadTJId",
        "outputId": "782fae5c-13b7-4495-dd15-899f62b19f43"
      },
      "source": [
        "v_coord_1 = np.array([1/4, 1/4])\n",
        "np.einsum('i,i...', v_coord_1, basis_1)"
      ],
      "execution_count": null,
      "outputs": [
        {
          "output_type": "execute_result",
          "data": {
            "text/plain": [
              "array([1., 1.])"
            ]
          },
          "metadata": {
            "tags": []
          },
          "execution_count": 124
        }
      ]
    },
    {
      "cell_type": "code",
      "metadata": {
        "colab": {
          "base_uri": "https://localhost:8080/"
        },
        "id": "fgwKu1nPToNk",
        "outputId": "765d7d32-186f-4c4c-d003-087c9eb89e65"
      },
      "source": [
        "w_coord_1 = np.array([-1/8, 3/8])\n",
        "np.einsum('i,i...', w_coord_1, basis_1)"
      ],
      "execution_count": null,
      "outputs": [
        {
          "output_type": "execute_result",
          "data": {
            "text/plain": [
              "array([1., 0.])"
            ]
          },
          "metadata": {
            "tags": []
          },
          "execution_count": 125
        }
      ]
    },
    {
      "cell_type": "code",
      "metadata": {
        "colab": {
          "base_uri": "https://localhost:8080/"
        },
        "id": "YcotX8pFT5qN",
        "outputId": "b7c8cc1c-19c5-4c7f-9329-96729b633d98"
      },
      "source": [
        "v_coord_2 = np.array([1, 1])\n",
        "np.einsum('i,i...', v_coord_2, basis_2)"
      ],
      "execution_count": null,
      "outputs": [
        {
          "output_type": "execute_result",
          "data": {
            "text/plain": [
              "array([1, 1])"
            ]
          },
          "metadata": {
            "tags": []
          },
          "execution_count": 126
        }
      ]
    },
    {
      "cell_type": "code",
      "metadata": {
        "colab": {
          "base_uri": "https://localhost:8080/"
        },
        "id": "w__BCggZUBX4",
        "outputId": "88aad91f-ffc3-4de0-8657-83dd46fd6d03"
      },
      "source": [
        "w_coord_2 = np.array([1, 0])\n",
        "np.einsum('i,i...', w_coord_2, basis_2)"
      ],
      "execution_count": null,
      "outputs": [
        {
          "output_type": "execute_result",
          "data": {
            "text/plain": [
              "array([1, 0])"
            ]
          },
          "metadata": {
            "tags": []
          },
          "execution_count": 127
        }
      ]
    },
    {
      "cell_type": "markdown",
      "metadata": {
        "id": "jC_SREoNUMwA"
      },
      "source": [
        "Now we can write the scalar product as direct dot product, or using the coordinates of the scalar product in either basis:"
      ]
    },
    {
      "cell_type": "code",
      "metadata": {
        "colab": {
          "base_uri": "https://localhost:8080/"
        },
        "id": "_77Rk7D4UVtU",
        "outputId": "d80f6193-91ee-4832-abb8-bef982b49fe3"
      },
      "source": [
        "np.dot(v, w)"
      ],
      "execution_count": null,
      "outputs": [
        {
          "output_type": "execute_result",
          "data": {
            "text/plain": [
              "1"
            ]
          },
          "metadata": {
            "tags": []
          },
          "execution_count": 129
        }
      ]
    },
    {
      "cell_type": "code",
      "metadata": {
        "colab": {
          "base_uri": "https://localhost:8080/"
        },
        "id": "bUoQCs0UUX4U",
        "outputId": "40a827ee-bbce-4dd3-a5d0-9d1cf9c014c6"
      },
      "source": [
        "np.einsum('i,j,ij', w_coord_1, v_coord_1, g)"
      ],
      "execution_count": null,
      "outputs": [
        {
          "output_type": "execute_result",
          "data": {
            "text/plain": [
              "1.0"
            ]
          },
          "metadata": {
            "tags": []
          },
          "execution_count": 128
        }
      ]
    },
    {
      "cell_type": "code",
      "metadata": {
        "colab": {
          "base_uri": "https://localhost:8080/"
        },
        "id": "egigSO1mUtWd",
        "outputId": "10c016af-2f46-455b-d348-ce7d73572749"
      },
      "source": [
        "np.einsum('i,j,ij', w_coord_2, v_coord_2, gp)"
      ],
      "execution_count": null,
      "outputs": [
        {
          "output_type": "execute_result",
          "data": {
            "text/plain": [
              "1"
            ]
          },
          "metadata": {
            "tags": []
          },
          "execution_count": 130
        }
      ]
    }
  ]
}